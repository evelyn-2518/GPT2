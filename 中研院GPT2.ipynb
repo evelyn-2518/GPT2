{
  "nbformat": 4,
  "nbformat_minor": 0,
  "metadata": {
    "colab": {
      "provenance": []
    },
    "kernelspec": {
      "name": "python3",
      "display_name": "Python 3"
    },
    "language_info": {
      "name": "python"
    }
  },
  "cells": [
    {
      "cell_type": "code",
      "execution_count": null,
      "metadata": {
        "colab": {
          "base_uri": "https://localhost:8080/",
          "height": 0
        },
        "id": "uIcCW_oqqQR1",
        "outputId": "1fa4d99d-f2c1-4d3d-ef16-ddb723e3b046"
      },
      "outputs": [
        {
          "name": "stdout",
          "output_type": "stream",
          "text": [
            "請輸入文字:我在\n"
          ]
        },
        {
          "output_type": "stream",
          "name": "stderr",
          "text": [
            "The attention mask and the pad token id were not set. As a consequence, you may observe unexpected behavior. Please pass your input's `attention_mask` to obtain reliable results.\n",
            "Setting `pad_token_id` to `eos_token_id`:102 for open-end generation.\n"
          ]
        },
        {
          "name": "stdout",
          "output_type": "stream",
          "text": [
            "\n",
            "請選擇以下接續句：\n",
            "1: 國 的 政 治 生 涯, 最 後 也 能 獲 得 民 主 黨 內 初 選 。\n",
            "2: 世 紀 已 經 出 現 一 些 特 殊 的 事 情 」, 但 他 相 信 自\n",
            "3: 場 上 一 直 是 我 的 驕 傲, 這 也 許 我 認 為 我 是 真 正\n",
            "\n",
            "請輸入選項編號（或輸入 exit 離開）：3\n"
          ]
        },
        {
          "output_type": "stream",
          "name": "stderr",
          "text": [
            "The attention mask and the pad token id were not set. As a consequence, you may observe unexpected behavior. Please pass your input's `attention_mask` to obtain reliable results.\n",
            "Setting `pad_token_id` to `eos_token_id`:102 for open-end generation.\n"
          ]
        },
        {
          "name": "stdout",
          "output_type": "stream",
          "text": [
            "\n",
            "當前句子：我在 場 上 一 直 是 我 的 驕 傲, 這 也 許 我 認 為 我 是 真 正\n",
            "\n",
            "請選擇以下接續句：\n",
            "1: 愛 台 灣 。 」 「 我 對 我 們 國 內 政 治 、 經 濟 與 社 會\n",
            "2: 傲 慢 的 女 人 。 」 另 外 還 有 三 名 台 灣 人 和 兩 名 日\n",
            "3: 個 能 夠 代 表 我 國 民 眾 的 國 家 元 首 。 他 相 信 今 後\n",
            "\n",
            "請輸入選項編號（或輸入 exit 離開）：3\n"
          ]
        },
        {
          "output_type": "stream",
          "name": "stderr",
          "text": [
            "The attention mask and the pad token id were not set. As a consequence, you may observe unexpected behavior. Please pass your input's `attention_mask` to obtain reliable results.\n",
            "Setting `pad_token_id` to `eos_token_id`:102 for open-end generation.\n"
          ]
        },
        {
          "name": "stdout",
          "output_type": "stream",
          "text": [
            "\n",
            "當前句子：我在 場 上 一 直 是 我 的 驕 傲, 這 也 許 我 認 為 我 是 真 正 個 能 夠 代 表 我 國 民 眾 的 國 家 元 首 。 他 相 信 今 後\n",
            "\n",
            "請選擇以下接續句：\n",
            "1: 我 會 繼 續 為 兩 岸 三 通 做 努 力, 以 加 速 兩 地 人 民\n",
            "2: 個 世 紀 將 會 更 加 努 力 。 我 今 天 應 邀 前 往 澳 洲 參\n",
            "3: 將 會 與 各 界 人 士 見 面, 彼 此 更 重 要 的 目 標 就 是\n",
            "\n",
            "請輸入選項編號（或輸入 exit 離開）：1\n"
          ]
        },
        {
          "output_type": "stream",
          "name": "stderr",
          "text": [
            "The attention mask and the pad token id were not set. As a consequence, you may observe unexpected behavior. Please pass your input's `attention_mask` to obtain reliable results.\n",
            "Setting `pad_token_id` to `eos_token_id`:102 for open-end generation.\n"
          ]
        },
        {
          "output_type": "stream",
          "name": "stdout",
          "text": [
            "\n",
            "當前句子：我在 場 上 一 直 是 我 的 驕 傲, 這 也 許 我 認 為 我 是 真 正 個 能 夠 代 表 我 國 民 眾 的 國 家 元 首 。 他 相 信 今 後 我 會 繼 續 為 兩 岸 三 通 做 努 力, 以 加 速 兩 地 人 民\n",
            "\n",
            "請選擇以下接續句：\n",
            "1: 流 與 經 濟 往 來, 對 中 共 政 權 及 台 灣 當 局 發 展 有\n",
            "2: 福 祉 與 合 作 。 」 900328 民 主 進 步 黨 籍 立 法 委 員\n",
            "3: 往 來 、 增 進 中 華 文 化 與 其 他 方 面 的 發 展 。 蕭 萬\n"
          ]
        }
      ],
      "source": [
        "# 匯入需要的函式庫\n",
        "from transformers import BertTokenizerFast, GPT2LMHeadModel\n",
        "import torch\n",
        "\n",
        "# 使用中研院的 GPT2 中文模型\n",
        "model_name = \"ckiplab/gpt2-base-chinese\"\n",
        "\n",
        "# 載入 tokenizer（用來把文字轉換為模型可處理的數字 ID）\n",
        "tokenizer = BertTokenizerFast.from_pretrained(model_name)\n",
        "\n",
        "# 載入 GPT2 中文模型\n",
        "model = GPT2LMHeadModel.from_pretrained(model_name)\n",
        "\n",
        "# 為了讓 GPT2 模型能正常處理 padding，設定 pad_token 為 eos_token（結束符號）\n",
        "tokenizer.pad_token = tokenizer.eos_token\n",
        "model.config.pad_token_id = model.config.eos_token_id\n",
        "\n",
        "# 初始輸入文字，由使用者輸入\n",
        "text = input(\"請輸入文字:\")\n",
        "\n",
        "num_return_sequences = 3       # 每次產生 3 個選項\n",
        "max_length = 20                # 每個候選最多 20 個字元\n",
        "\n",
        "# 持續進行輸入與選擇的迴圈，直到使用者輸入 \"exit\"\n",
        "while True:\n",
        "    # 將目前的文字轉為模型可讀格式（張量）\n",
        "    inputs = tokenizer(text, return_tensors=\"pt\")\n",
        "\n",
        "    # 使用 GPT2 模型產生多個續句（採樣方式可讓內容多樣）\n",
        "    outputs = model.generate(\n",
        "        inputs[\"input_ids\"],              # 模型輸入張量\n",
        "        max_new_tokens=max_length,       # 最大續句長度\n",
        "        num_return_sequences=num_return_sequences,  # 要產生幾個句子\n",
        "        do_sample=True,                  # 啟用隨機採樣\n",
        "        top_k=40,                        # 保留機率前 40 的詞\n",
        "        top_p=0.92,                      # nucleus sampling（只考慮總機率達 0.92 的詞）\n",
        "        temperature=0.9,                 # 控制輸出隨機性\n",
        "        repetition_penalty=1.1,          # 避免一直說同樣的話\n",
        "        no_repeat_ngram_size=2,          # 禁止 2-gram 重複\n",
        "        early_stopping=False,            # 不提早停止產生\n",
        "        pad_token_id=tokenizer.pad_token_id  # 設定 pad_token，防止錯誤\n",
        "    )\n",
        "\n",
        "    # 取得目前輸入文字的最後一個字，用來後續避免接續句首重複\n",
        "    last_char = text.strip()[-1] if text.strip() else \"\"\n",
        "\n",
        "    # 過濾重複與無效選項，整理候選續句\n",
        "    filtered_options = []\n",
        "    for output in outputs:\n",
        "        # 將模型輸出從 token ID 轉為文字\n",
        "        decoded = tokenizer.decode(output, skip_special_tokens=True)\n",
        "\n",
        "        # 取出生成內容中「新增加的部分」\n",
        "        continuation = decoded[len(text):].strip()\n",
        "\n",
        "        # 如果接續句開頭重複了原句的最後一個字，則移除該字以避免語意不順\n",
        "        if continuation.startswith(last_char):\n",
        "            continuation = continuation[1:].lstrip()\n",
        "\n",
        "        # 去除空字串與重複句子，才加入候選清單\n",
        "        if continuation and continuation not in filtered_options:\n",
        "            filtered_options.append(continuation)\n",
        "\n",
        "        # 一旦候選數量達到需求就停止\n",
        "        if len(filtered_options) >= num_return_sequences:\n",
        "            break\n",
        "\n",
        "    # 顯示所有候選句供使用者選擇\n",
        "    print(\"\\n請選擇以下接續句：\")\n",
        "    for i, option in enumerate(filtered_options):\n",
        "        print(f\"{i+1}: {option}\")\n",
        "\n",
        "    # 取得使用者的選擇\n",
        "    choice = input(\"\\n請輸入選項編號（或輸入 exit 離開）：\")\n",
        "\n",
        "    # 如果使用者輸入 exit，就結束程式\n",
        "    if choice.lower() == \"exit\":\n",
        "        print(\"感謝使用，再見！\")\n",
        "        break\n",
        "\n",
        "    # 檢查輸入是否有效（是數字且在可選範圍內）\n",
        "    if not choice.isdigit() or not (1 <= int(choice) <= len(filtered_options)):\n",
        "        print(\"無效選項，請重新選擇。\")\n",
        "        continue\n",
        "\n",
        "    # 取得使用者選定的句子，並加到原始輸入上（用空格隔開）\n",
        "    selected = filtered_options[int(choice) - 1]\n",
        "    text += \" \" + selected\n",
        "\n",
        "    # 顯示目前累積的完整句子\n",
        "    print(f\"\\n當前句子：{text}\")\n"
      ]
    }
  ]
}